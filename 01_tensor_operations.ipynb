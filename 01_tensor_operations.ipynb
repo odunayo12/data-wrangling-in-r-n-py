{
  "nbformat": 4,
  "nbformat_minor": 0,
  "metadata": {
    "colab": {
      "name": "01-tensor-operations.ipynb",
      "provenance": [],
      "collapsed_sections": [
        "dz3-O1kz9gr1",
        "k9kFXjch9gr3",
        "jmXTtcGH9gr3"
      ],
      "include_colab_link": true
    },
    "kernelspec": {
      "display_name": "Python 3",
      "language": "python",
      "name": "python3"
    },
    "language_info": {
      "codemirror_mode": {
        "name": "ipython",
        "version": 3
      },
      "file_extension": ".py",
      "mimetype": "text/x-python",
      "name": "python",
      "nbconvert_exporter": "python",
      "pygments_lexer": "ipython3",
      "version": "3.8.5"
    }
  },
  "cells": [
    {
      "cell_type": "markdown",
      "metadata": {
        "id": "view-in-github",
        "colab_type": "text"
      },
      "source": [
        "<a href=\"https://colab.research.google.com/github/odunayo12/data-wrangling-in-r-n-py/blob/master/01_tensor_operations.ipynb\" target=\"_parent\"><img src=\"https://colab.research.google.com/assets/colab-badge.svg\" alt=\"Open In Colab\"/></a>"
      ]
    },
    {
      "cell_type": "code",
      "metadata": {
        "colab": {
          "base_uri": "https://localhost:8080/"
        },
        "id": "EO__Lm0zfJfS",
        "outputId": "e88af6a1-8b1b-4f11-9030-7ad3075382ae"
      },
      "source": [
        "# Jovian Commit Essentials\n",
        "# Please retain and execute this cell without modifying the contents for `jovian.commit` to work\n",
        "!pip install jovian --upgrade -q\n",
        "import jovian\n",
        "jovian.utils.colab.set_colab_file_id('1dIpeujnom2vQwZBLXkSeAOrrQcME1IUr')"
      ],
      "execution_count": 43,
      "outputs": [
        {
          "output_type": "stream",
          "text": [
            "\u001b[?25l\r\u001b[K     |█████                           | 10kB 21.5MB/s eta 0:00:01\r\u001b[K     |██████████                      | 20kB 19.3MB/s eta 0:00:01\r\u001b[K     |██████████████▉                 | 30kB 9.8MB/s eta 0:00:01\r\u001b[K     |███████████████████▉            | 40kB 8.6MB/s eta 0:00:01\r\u001b[K     |████████████████████████▉       | 51kB 4.3MB/s eta 0:00:01\r\u001b[K     |█████████████████████████████▊  | 61kB 4.9MB/s eta 0:00:01\r\u001b[K     |████████████████████████████████| 71kB 2.9MB/s \n",
            "\u001b[?25h  Building wheel for uuid (setup.py) ... \u001b[?25l\u001b[?25hdone\n"
          ],
          "name": "stdout"
        }
      ]
    },
    {
      "cell_type": "markdown",
      "metadata": {
        "id": "RsKKZljM9gru"
      },
      "source": [
        "# Hello `pytorch`, can I make you `function()`?\n",
        "\n",
        "\n",
        "In this article, the goal is to introduce the following `pytorch` functions by demonstrating thier use in portfolio risk management. \n",
        "\n",
        "- `torch.ones()`\n",
        "- `torch.diagonal()` \n",
        "- `torch.rand_like()`\n",
        "- `torch.mv()` \n",
        "- `torch.transpose()`\n",
        "- `torch.sum()` \n",
        "\n",
        "Before we begin, let's install and import PyTorch"
      ]
    },
    {
      "cell_type": "code",
      "metadata": {
        "id": "wkuL3UBC9gru"
      },
      "source": [
        "# Uncomment and run the appropriate command for your operating system, if required\n",
        "\n",
        "# Linux / Binder\n",
        "# !pip install numpy torch==1.7.0+cpu torchvision==0.8.1+cpu torchaudio==0.7.0 -f https://download.pytorch.org/whl/torch_stable.html\n",
        "\n",
        "# Windows\n",
        "# !pip install numpy torch==1.7.0+cpu torchvision==0.8.1+cpu torchaudio==0.7.0 -f https://download.pytorch.org/whl/torch_stable.html\n",
        "\n",
        "# MacOS\n",
        "# !pip install numpy torch torchvision torchaudio"
      ],
      "execution_count": null,
      "outputs": []
    },
    {
      "cell_type": "code",
      "metadata": {
        "id": "1nGF4Z8e9gru"
      },
      "source": [
        "# Import torch and other required modules\n",
        "import torch"
      ],
      "execution_count": 1,
      "outputs": []
    },
    {
      "cell_type": "markdown",
      "metadata": {
        "id": "4RFzVSH4g-4U"
      },
      "source": [
        "In this tutorial we seek to explore the use of `pytorch` functions in solving for a portfolio optimization problem: The Markowitz Mean-Variance Portfolio\r\n",
        "Theory or Modern portfolio Theory. The MPT is a diversification-driven investment management technique that seeks to maximize expected returns by allocating the investment amount in such a way that a risky asset equally pays a high return.\r\n",
        "Assumptions have it that investors are risk averse. That is they will only be willign to taken-on more risk, so long it pays a high enough returns.\r\n",
        "Thus more formally, given $n$ assets, our paremeter consist of  $$\\begin{align}\r\n",
        "  w &= \\begin{bmatrix}\r\n",
        "           w_{1} \\\\\r\n",
        "           w_{2} \\\\\r\n",
        "           \\vdots \\\\\r\n",
        "           w_{n}\r\n",
        "    \\end{bmatrix} \\in \\mathbb{R}^{n \\times 1}, \\quad\r\n",
        "  m &= \\begin{bmatrix}\r\n",
        "           m_{1} \\\\\r\n",
        "           m_{2} \\\\\r\n",
        "           \\vdots \\\\\r\n",
        "           w_{n}\r\n",
        "    \\end{bmatrix} \\in \\mathbb{R}^{n \\times 1}, \\quad\r\n",
        "  \\Sigma &= \\begin{bmatrix}\r\n",
        "            a_{11} & 0 & 0& 0\\\\\r\n",
        "            0 & a_{22} & 0& 0\\\\\r\n",
        "            \\vdots  & \\vdots & \\ddots & \\vdots\\\\\r\n",
        "            0 & 0 & 0& a_{nn}\r\n",
        "    \\end{bmatrix} \\in \\mathbb{R}^{n \\times n}, \\quad\r\n",
        " e &= \\begin{bmatrix}\r\n",
        "           1 \\\\\r\n",
        "           1 \\\\\r\n",
        "           \\vdots \\\\\r\n",
        "           1\r\n",
        "         \\end{bmatrix} \\in \\mathbb{R}^{n \\times 1}.\r\n",
        "  \\end{align}$$ \r\n",
        "Where:\r\n",
        "  1. $w$ is the vector of portfolion weights (Say I have \\\\$100, weights refers to the portion of my \\$100 each asset class in my portfolio should take). Thus its only logical that it sums up to 1. That is, $\\sum_{i=1}^nw_i = 1$;\r\n",
        "  2. $\\Sigma$ is the  covariance matrix for the returns on the assets in the portfolio;\r\n",
        "  3. $m$ is a vector of expected returns.\r\n",
        "  4. $e$ is a unit vector.\r\n",
        "  5. Note that all matrix and vectors are in dimension $n$ of the number of assets in our portfolio. This tells us that the more the numer of assets in out porfolio, the more the computation required."
      ]
    },
    {
      "cell_type": "markdown",
      "metadata": {
        "id": "zOzztZxASaI1"
      },
      "source": [
        "## Problem Statement.\r\n",
        "Given the paremeter family above, we seek a porfolio weights that minimizes risk called the minimum variance porfolio. Thus, among all asset combinations we seek the one that yields minimum risk and maximizes profit given our investment sum.\r\n",
        "This is stated as an optimization problem of the form:\r\n",
        "$$\\begin{align}\r\n",
        "min \\qquad w^{T}\\Sigma w \\\\\r\n",
        "s.t \\qquad  w^{T} e = 1;\r\n",
        "\\end{align}$$\r\n",
        "where $w^{T}\\Sigma w$ is the variance of portfolio return. The problem above is satisfied or \"solved\" by:\r\n",
        "$$\\begin{align}\r\n",
        "w= \\frac{\\Sigma^{-1}e}{e^{T} \\Sigma^{-1}e}.\r\n",
        "\\end{align}$$\r\n",
        "\r\n",
        "In the subsequent section we use applicable `pytorch` functions to simulate and solve a related problem."
      ]
    },
    {
      "cell_type": "markdown",
      "metadata": {
        "id": "_Syu-TAK9grv"
      },
      "source": [
        "## Function 1 -  `torch.ones()`\n",
        "The `torch.ones(a,b)` function returns a tensor `X` of ones with dimension `a` by `b`. But if only a is supplied it returns an `1` by `4` vector of ones. the therefore create our unit vector $e$ using the function. We assume we have 4 assets in our portfolio. That is $n= 4.$ "
      ]
    },
    {
      "cell_type": "code",
      "metadata": {
        "colab": {
          "base_uri": "https://localhost:8080/"
        },
        "id": "oGMIgGBY9grv",
        "outputId": "2194bdb5-c9e1-4a36-be4f-8ae8abe55eb2"
      },
      "source": [
        "# Example 1 - working (change this)\n",
        "\n",
        "e = torch.ones(4,1) # creates a 3 by 1 tensor\n",
        "print(e)"
      ],
      "execution_count": 27,
      "outputs": [
        {
          "output_type": "stream",
          "text": [
            "tensor([[1.],\n",
            "        [1.],\n",
            "        [1.],\n",
            "        [1.]])\n"
          ],
          "name": "stdout"
        }
      ]
    },
    {
      "cell_type": "markdown",
      "metadata": {
        "id": "6EREuvnt9grx"
      },
      "source": [
        "Closing comments about when to use this function"
      ]
    },
    {
      "cell_type": "markdown",
      "metadata": {
        "id": "6NCRovHc9grx"
      },
      "source": [
        "Let's save our work using Jovian before continuing."
      ]
    },
    {
      "cell_type": "code",
      "metadata": {
        "id": "0eyDD_WE9grx"
      },
      "source": [
        "!pip install jovian --upgrade --quiet"
      ],
      "execution_count": 44,
      "outputs": []
    },
    {
      "cell_type": "code",
      "metadata": {
        "id": "_TrhlkXJ9grx"
      },
      "source": [
        "import jovian"
      ],
      "execution_count": 45,
      "outputs": []
    },
    {
      "cell_type": "markdown",
      "metadata": {
        "id": "jrAum4nE9gry"
      },
      "source": [
        "## Function 2 - `torch.diagonal()` and `torch.rand_like()`\n",
        "For our covariance matrix $\\Sigma$, which happens to be a diagonal matrix; the `torch.diagonal(a,b,...)` function comes in handy. The function, if `a,b,...` is a vector, generates a square matrix with `a,b,...` as the diagonal entries.\n",
        "\n",
        "`torch.rand_like()`, on the other hand, is an extension of `torch.rand()`. Whereas the `torch.rand(a,b)` function generates a tensor of the random numbers from 0 upto but not including 1; `torch.rand_like()` returns random numbers that mimmick the size of tensor input. Lets see this in action"
      ]
    },
    {
      "cell_type": "markdown",
      "metadata": {
        "id": "gceG8kEtd_Qj"
      },
      "source": [
        "#### Example 1 - `torch.rand()`"
      ]
    },
    {
      "cell_type": "code",
      "metadata": {
        "colab": {
          "base_uri": "https://localhost:8080/"
        },
        "id": "4BB1g4VyMnk9",
        "outputId": "7370ea06-92db-40aa-ebd3-d8661780ae7d"
      },
      "source": [
        "y= torch.rand(3,2)\r\n",
        "print(y)"
      ],
      "execution_count": 7,
      "outputs": [
        {
          "output_type": "stream",
          "text": [
            "tensor([[0.3570, 0.1294],\n",
            "        [0.0239, 0.4440],\n",
            "        [0.7853, 0.8482]])\n"
          ],
          "name": "stdout"
        }
      ]
    },
    {
      "cell_type": "markdown",
      "metadata": {
        "id": "7mbs6UbreKUe"
      },
      "source": [
        "#### Example 2 - `torch.rand_like()`"
      ]
    },
    {
      "cell_type": "code",
      "metadata": {
        "colab": {
          "base_uri": "https://localhost:8080/"
        },
        "id": "dUlr_wwE9gry",
        "outputId": "8cac8b39-430c-4a23-cf2a-fedddced2f55"
      },
      "source": [
        "torch.rand_like(y)"
      ],
      "execution_count": 8,
      "outputs": [
        {
          "output_type": "execute_result",
          "data": {
            "text/plain": [
              "tensor([[0.5361, 0.7656],\n",
              "        [0.1740, 0.7561],\n",
              "        [0.0566, 0.1665]])"
            ]
          },
          "metadata": {
            "tags": []
          },
          "execution_count": 8
        }
      ]
    },
    {
      "cell_type": "markdown",
      "metadata": {
        "id": "f1bzCa9J9gry"
      },
      "source": [
        "As seen above, we need not specify dimension for the `torch.rand_like()` function. Its output rather \"inherits\" the dimension of its input."
      ]
    },
    {
      "cell_type": "code",
      "metadata": {
        "colab": {
          "base_uri": "https://localhost:8080/",
          "height": 162
        },
        "id": "ndC8I2MR9gry",
        "outputId": "02e180fd-774c-49c5-848c-02a1621dd40d"
      },
      "source": [
        "torch.rand_like(y,1)"
      ],
      "execution_count": 9,
      "outputs": [
        {
          "output_type": "error",
          "ename": "TypeError",
          "evalue": "ignored",
          "traceback": [
            "\u001b[0;31m---------------------------------------------------------------------------\u001b[0m",
            "\u001b[0;31mTypeError\u001b[0m                                 Traceback (most recent call last)",
            "\u001b[0;32m<ipython-input-9-29b6f6945063>\u001b[0m in \u001b[0;36m<module>\u001b[0;34m()\u001b[0m\n\u001b[0;32m----> 1\u001b[0;31m \u001b[0mtorch\u001b[0m\u001b[0;34m.\u001b[0m\u001b[0mrand_like\u001b[0m\u001b[0;34m(\u001b[0m\u001b[0my\u001b[0m\u001b[0;34m,\u001b[0m\u001b[0;36m1\u001b[0m\u001b[0;34m)\u001b[0m\u001b[0;34m\u001b[0m\u001b[0;34m\u001b[0m\u001b[0m\n\u001b[0m",
            "\u001b[0;31mTypeError\u001b[0m: rand_like() takes 1 positional argument but 2 were given"
          ]
        }
      ]
    },
    {
      "cell_type": "markdown",
      "metadata": {
        "id": "BF-hItZm9gry"
      },
      "source": [
        "Note that you cannot add increase the alter the dimension of the input vector in `torch.rand_like(y)` by specifying additional argument in it. If dimesion must be changed it has to be changed in the iput fuction. Suppose I want a 3-D tensor output, the following will do the magic."
      ]
    },
    {
      "cell_type": "code",
      "metadata": {
        "colab": {
          "base_uri": "https://localhost:8080/"
        },
        "id": "i-P4wVPkgpm6",
        "outputId": "03e36967-7637-4e7b-ba83-fed6f4ea26c5"
      },
      "source": [
        "y = torch.rand(3,2,1)\r\n",
        "torch.rand_like(y)"
      ],
      "execution_count": 10,
      "outputs": [
        {
          "output_type": "execute_result",
          "data": {
            "text/plain": [
              "tensor([[[0.9280],\n",
              "         [0.9286]],\n",
              "\n",
              "        [[0.8797],\n",
              "         [0.0579]],\n",
              "\n",
              "        [[0.7907],\n",
              "         [0.8985]]])"
            ]
          },
          "metadata": {
            "tags": []
          },
          "execution_count": 10
        }
      ]
    },
    {
      "cell_type": "markdown",
      "metadata": {
        "id": "3iCrULz59grz"
      },
      "source": [
        "#### Sigma $\\Sigma$\r\n",
        "In what follows, we combine `torch.rand_like()` with `torch.diag()` to generate a square matrix $\\Sigma$ of dimension $e$."
      ]
    },
    {
      "cell_type": "code",
      "metadata": {
        "colab": {
          "base_uri": "https://localhost:8080/"
        },
        "id": "Z_L4kU0OiMBo",
        "outputId": "51a30750-9b0a-4f1a-af6c-1db3915ecb25"
      },
      "source": [
        "rand_e = torch.rand_like(e)\r\n",
        "transp_rand_e = rand_e.t() # t() is a shorthand for transpose()\r\n",
        "transp_rand_e = transp_rand_e[0,:] #covert to python list so to make it compactible with the torch.diag() function\r\n",
        "print(\"transp_rand_e\", transp_rand_e)\r\n",
        "sigma = torch.diag(transp_rand_e)\r\n",
        "print(sigma)"
      ],
      "execution_count": 28,
      "outputs": [
        {
          "output_type": "stream",
          "text": [
            "transp_rand_e tensor([0.0237, 0.0014, 0.0792, 0.5202])\n",
            "tensor([[0.0237, 0.0000, 0.0000, 0.0000],\n",
            "        [0.0000, 0.0014, 0.0000, 0.0000],\n",
            "        [0.0000, 0.0000, 0.0792, 0.0000],\n",
            "        [0.0000, 0.0000, 0.0000, 0.5202]])\n"
          ],
          "name": "stdout"
        }
      ]
    },
    {
      "cell_type": "markdown",
      "metadata": {
        "id": "yIRjck6hkz6t"
      },
      "source": [
        "Notice that `transp_rand_e`'s tensor constitutes the diagonal elements of `sigma`, which is the desired goal."
      ]
    },
    {
      "cell_type": "markdown",
      "metadata": {
        "id": "S90z1ZCr9grz"
      },
      "source": [
        "## Function 3 - `torch.inverse()`\n",
        "\n",
        "`torch.inverse()` returns the inverse of the square matrix. Therefore, we will us it to derive the values of $\\Sigma^{-1}$.\n",
        "\n",
        "\n",
        "\n",
        "\n"
      ]
    },
    {
      "cell_type": "code",
      "metadata": {
        "id": "mSnQRgrh9grz"
      },
      "source": [
        "sigma_inverse = torch.inverse(sigma)"
      ],
      "execution_count": 29,
      "outputs": []
    },
    {
      "cell_type": "markdown",
      "metadata": {
        "id": "2QYqBV9Y9gr0"
      },
      "source": [
        "Notice that the input must be a square matrix, that is it must be a matrix of equal lenght and height."
      ]
    },
    {
      "cell_type": "code",
      "metadata": {
        "id": "6CcSHuyg9gr0",
        "colab": {
          "base_uri": "https://localhost:8080/",
          "height": 195
        },
        "outputId": "2a6ad0bc-6909-472b-d264-74b7f0a352dc"
      },
      "source": [
        "inv_rand = torch.rand(4, 3)\r\n",
        "inv_rand.inverse()"
      ],
      "execution_count": 13,
      "outputs": [
        {
          "output_type": "error",
          "ename": "RuntimeError",
          "evalue": "ignored",
          "traceback": [
            "\u001b[0;31m---------------------------------------------------------------------------\u001b[0m",
            "\u001b[0;31mRuntimeError\u001b[0m                              Traceback (most recent call last)",
            "\u001b[0;32m<ipython-input-13-1a7fc9960bda>\u001b[0m in \u001b[0;36m<module>\u001b[0;34m()\u001b[0m\n\u001b[1;32m      1\u001b[0m \u001b[0;31m# Example 3 - breaking (to illustrate when it breaks)\u001b[0m\u001b[0;34m\u001b[0m\u001b[0;34m\u001b[0m\u001b[0;34m\u001b[0m\u001b[0m\n\u001b[1;32m      2\u001b[0m \u001b[0minv_rand\u001b[0m \u001b[0;34m=\u001b[0m \u001b[0mtorch\u001b[0m\u001b[0;34m.\u001b[0m\u001b[0mrand\u001b[0m\u001b[0;34m(\u001b[0m\u001b[0;36m4\u001b[0m\u001b[0;34m,\u001b[0m \u001b[0;36m3\u001b[0m\u001b[0;34m)\u001b[0m\u001b[0;34m\u001b[0m\u001b[0;34m\u001b[0m\u001b[0m\n\u001b[0;32m----> 3\u001b[0;31m \u001b[0minv_rand\u001b[0m\u001b[0;34m.\u001b[0m\u001b[0minverse\u001b[0m\u001b[0;34m(\u001b[0m\u001b[0;34m)\u001b[0m\u001b[0;34m\u001b[0m\u001b[0;34m\u001b[0m\u001b[0m\n\u001b[0m",
            "\u001b[0;31mRuntimeError\u001b[0m: A must be batches of square matrices, but they are 3 by 4 matrices"
          ]
        }
      ]
    },
    {
      "cell_type": "markdown",
      "metadata": {
        "id": "MYNY_dZp9gr0"
      },
      "source": [
        "The erroe above occurs because matrix `inv_rand` is a `4 x 3` in dimension."
      ]
    },
    {
      "cell_type": "markdown",
      "metadata": {
        "id": "t9uwr0ziUlJT"
      },
      "source": [
        "## Function 4 `torch.transpose()`\r\n",
        "\r\n",
        "`torch.transpose(a, b)` function returns the transpose of a matrix. That is, if matrix $A$ has dimension `a x b` the function returns a matrix of lenght `b x a`."
      ]
    },
    {
      "cell_type": "markdown",
      "metadata": {
        "id": "YryrVGWuVpRj"
      },
      "source": [
        "In what follows we use the function to generate the vector $e'$. We use the shorthand `t()`"
      ]
    },
    {
      "cell_type": "code",
      "metadata": {
        "colab": {
          "base_uri": "https://localhost:8080/"
        },
        "id": "p0shNu6blBk4",
        "outputId": "6e8e0961-5b0a-40d5-bffa-740155251d9d"
      },
      "source": [
        "e_transpose = e.t()[0,:] #convert to python list.\r\n",
        "e_transpose\r\n",
        "\r\n",
        "# uncomment to test.\r\n",
        "# e.e_transpose()[0,:]"
      ],
      "execution_count": 30,
      "outputs": [
        {
          "output_type": "execute_result",
          "data": {
            "text/plain": [
              "tensor([1., 1., 1., 1.])"
            ]
          },
          "metadata": {
            "tags": []
          },
          "execution_count": 30
        }
      ]
    },
    {
      "cell_type": "markdown",
      "metadata": {
        "id": "R6XNJfCM9gr0"
      },
      "source": [
        "## Function 5 - `torch.mv(a,b)` \n",
        "\n",
        "Performs a matrix-vector product of the matrix `a` and the vector `b`."
      ]
    },
    {
      "cell_type": "markdown",
      "metadata": {
        "id": "mrSULnYlXdRK"
      },
      "source": [
        "Below is the result for the value of the $ e^{T} \\Sigma^{-1}$ part of the denominator of the desired weights $w$."
      ]
    },
    {
      "cell_type": "code",
      "metadata": {
        "id": "5IkgR2et9grz",
        "colab": {
          "base_uri": "https://localhost:8080/"
        },
        "outputId": "21ee424f-32c1-48fc-a29f-afaf04e3470b"
      },
      "source": [
        "e_transpose_sigma_inverse = torch.mv(sigma_inverse,e_transpose)\r\n",
        "e_transpose_sigma_inverse"
      ],
      "execution_count": 36,
      "outputs": [
        {
          "output_type": "execute_result",
          "data": {
            "text/plain": [
              "tensor([ 42.2743, 694.1913,  12.6340,   1.9222])"
            ]
          },
          "metadata": {
            "tags": []
          },
          "execution_count": 36
        }
      ]
    },
    {
      "cell_type": "markdown",
      "metadata": {
        "id": "nC210je39gr1"
      },
      "source": [
        "The `@` symbol is a shorthand for matrix multiplication and `/` for scalar division. Notice that the quantity  $e^{T} \\Sigma^{-1}e$ is scalar. Thus, the following gives its value."
      ]
    },
    {
      "cell_type": "code",
      "metadata": {
        "id": "HmTRkihd9gr1",
        "colab": {
          "base_uri": "https://localhost:8080/"
        },
        "outputId": "968cdc62-d20a-46ec-c9d5-1bcc28c9c8dd"
      },
      "source": [
        "e_transpose_sigma_inverse_e = e_transpose_sigma_inverse@e\r\n",
        "e_transpose_sigma_inverse_e"
      ],
      "execution_count": 42,
      "outputs": [
        {
          "output_type": "execute_result",
          "data": {
            "text/plain": [
              "tensor([751.0218])"
            ]
          },
          "metadata": {
            "tags": []
          },
          "execution_count": 42
        }
      ]
    },
    {
      "cell_type": "markdown",
      "metadata": {
        "id": "Y3roLtC99gr1"
      },
      "source": [
        "Here as in everywhere else, the rule of matrix multiplication having conforming lenghts is applicable. The following code breaks because the matrix length are non-conforming"
      ]
    },
    {
      "cell_type": "code",
      "metadata": {
        "id": "cEK3DOao9gr1",
        "colab": {
          "base_uri": "https://localhost:8080/",
          "height": 162
        },
        "outputId": "ccdc47f5-5bf7-454b-bef4-4abe530f9631"
      },
      "source": [
        "e@e_transpose_sigma_inverse"
      ],
      "execution_count": 35,
      "outputs": [
        {
          "output_type": "error",
          "ename": "RuntimeError",
          "evalue": "ignored",
          "traceback": [
            "\u001b[0;31m---------------------------------------------------------------------------\u001b[0m",
            "\u001b[0;31mRuntimeError\u001b[0m                              Traceback (most recent call last)",
            "\u001b[0;32m<ipython-input-35-3a4d19966c41>\u001b[0m in \u001b[0;36m<module>\u001b[0;34m()\u001b[0m\n\u001b[0;32m----> 1\u001b[0;31m \u001b[0me\u001b[0m\u001b[0;34m@\u001b[0m\u001b[0me_transpose_sigma_inverse\u001b[0m\u001b[0;34m\u001b[0m\u001b[0;34m\u001b[0m\u001b[0m\n\u001b[0m",
            "\u001b[0;31mRuntimeError\u001b[0m: size mismatch, get 4, 4x1,4"
          ]
        }
      ]
    },
    {
      "cell_type": "markdown",
      "metadata": {
        "id": "-fYypdBj9gr1"
      },
      "source": [
        "Finally, the assets weights $w$ in our portfolio that minimizes the risk is given by the following quantity."
      ]
    },
    {
      "cell_type": "code",
      "metadata": {
        "colab": {
          "base_uri": "https://localhost:8080/"
        },
        "id": "gpT9DkKbd-Z9",
        "outputId": "c160e236-d783-424f-919b-ba928575f5b2"
      },
      "source": [
        "w = e_transpose_sigma_inverse/e_transpose_sigma_inverse_e\r\n",
        "w"
      ],
      "execution_count": 34,
      "outputs": [
        {
          "output_type": "execute_result",
          "data": {
            "text/plain": [
              "tensor([0.0563, 0.9243, 0.0168, 0.0026])"
            ]
          },
          "metadata": {
            "tags": []
          },
          "execution_count": 34
        }
      ]
    },
    {
      "cell_type": "markdown",
      "metadata": {
        "id": "dz3-O1kz9gr1"
      },
      "source": [
        "## Function 6 - `torch.sum()` \n",
        "\n",
        "`torch.sum()` as the name implies, retúrns the sum of the elements of tensor."
      ]
    },
    {
      "cell_type": "markdown",
      "metadata": {
        "id": "oTDrnSAFfQkh"
      },
      "source": [
        "We will use this to check if our weights adds up to 1. If it does, then, hurray. Our simulation went well."
      ]
    },
    {
      "cell_type": "code",
      "metadata": {
        "id": "hhNqtona9gr2",
        "colab": {
          "base_uri": "https://localhost:8080/"
        },
        "outputId": "e96494cc-f9a8-4d41-cee4-3b6b21901d7a"
      },
      "source": [
        "w.sum()"
      ],
      "execution_count": 26,
      "outputs": [
        {
          "output_type": "execute_result",
          "data": {
            "text/plain": [
              "tensor(1.)"
            ]
          },
          "metadata": {
            "tags": []
          },
          "execution_count": 26
        }
      ]
    },
    {
      "cell_type": "markdown",
      "metadata": {
        "id": "k9kFXjch9gr3"
      },
      "source": [
        "## Conclusion\n",
        "\n",
        "As we can see, for a \\$100 invstment sum, the model tels us to invest \\$5.63 in Asset A, \\$92.43 in Asset B, \\$1.68 in asset C and \\$0.26 in Asset C. \n",
        "\n",
        "**Disclaimer**: This is not intended to be an invstment advise."
      ]
    },
    {
      "cell_type": "code",
      "metadata": {
        "colab": {
          "base_uri": "https://localhost:8080/",
          "height": 102
        },
        "id": "lSO5232s9grx",
        "outputId": "b629b30e-b83d-4fa1-c1d8-dc540de13981"
      },
      "source": [
        "jovian.commit(project='01-tensor-operations')"
      ],
      "execution_count": 47,
      "outputs": [
        {
          "output_type": "stream",
          "text": [
            "[jovian] Detected Colab notebook...\u001b[0m\n",
            "[jovian] Uploading colab notebook to Jovian...\u001b[0m\n",
            "[jovian] Capturing environment..\u001b[0m\n",
            "[jovian] Committed successfully! https://jovian.ai/odunayo12/01-tensor-operations\u001b[0m\n"
          ],
          "name": "stdout"
        },
        {
          "output_type": "execute_result",
          "data": {
            "application/vnd.google.colaboratory.intrinsic+json": {
              "type": "string"
            },
            "text/plain": [
              "'https://jovian.ai/odunayo12/01-tensor-operations'"
            ]
          },
          "metadata": {
            "tags": []
          },
          "execution_count": 47
        }
      ]
    },
    {
      "cell_type": "markdown",
      "metadata": {
        "id": "jmXTtcGH9gr3"
      },
      "source": [
        "## Reference Links\n",
        "\n",
        "* Official documentation for tensor operations: https://pytorch.org/docs/stable/torch.html\n"
      ]
    }
  ]
}