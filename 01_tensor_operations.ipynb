{
  "nbformat": 4,
  "nbformat_minor": 0,
  "metadata": {
    "colab": {
      "name": "01-tensor-operations.ipynb",
      "provenance": [],
      "collapsed_sections": [
        "dz3-O1kz9gr1",
        "k9kFXjch9gr3",
        "jmXTtcGH9gr3"
      ],
      "include_colab_link": true
    },
    "kernelspec": {
      "display_name": "Python 3",
      "language": "python",
      "name": "python3"
    },
    "language_info": {
      "codemirror_mode": {
        "name": "ipython",
        "version": 3
      },
      "file_extension": ".py",
      "mimetype": "text/x-python",
      "name": "python",
      "nbconvert_exporter": "python",
      "pygments_lexer": "ipython3",
      "version": "3.8.5"
    }
  },
  "cells": [
    {
      "cell_type": "markdown",
      "metadata": {
        "id": "view-in-github",
        "colab_type": "text"
      },
      "source": [
        "<a href=\"https://colab.research.google.com/github/odunayo12/data-wrangling-in-r-n-py/blob/master/01_tensor_operations.ipynb\" target=\"_parent\"><img src=\"https://colab.research.google.com/assets/colab-badge.svg\" alt=\"Open In Colab\"/></a>"
      ]
    },
    {
      "cell_type": "code",
      "metadata": {
        "id": "EO__Lm0zfJfS"
      },
      "source": [
        "# Jovian Commit Essentials\n",
        "# Please retain and execute this cell without modifying the contents for `jovian.commit` to work\n",
        "!pip install jovian --upgrade -q\n",
        "import jovian\n",
        "jovian.utils.colab.set_colab_file_id('1dIpeujnom2vQwZBLXkSeAOrrQcME1IUr')"
      ],
      "execution_count": 95,
      "outputs": []
    },
    {
      "cell_type": "markdown",
      "metadata": {
        "id": "iebAhGa-9grt"
      },
      "source": [
        "> ### Assignment Instructions (delete this cell before submission)\n",
        "> \n",
        "> The objective of this assignment is to develop a solid understanding of PyTorch tensors. In this assignment you will:\n",
        ">\n",
        "> 1. Pick 5 interesting functions related to PyTorch tensors by [reading the documentation](https://pytorch.org/docs/stable/torch.html), \n",
        "> 2. Edit this starter template notebook to illustrate their usage and publish your notebook to Jovian using `jovian.commit`. Make sure to add proper explanations too, not just code.\n",
        "> 3. Submit the link to your published notebook on Jovian here: https://jovian.ai/learn/deep-learning-with-pytorch-zero-to-gans/assignment/assignment-1-all-about-torch-tensor .\n",
        "> 4. (Optional) Write a blog post on [Medium](https://medium.com) to accompany and showcase your Jupyter notebook. [Embed cells from your notebook](https://medium.com/@aakashns/share-and-embed-jupyter-notebooks-online-with-jovian-ml-df709a03064e) wherever necessary.\n",
        "> 5. (Optional) [Share your work](https://jovian.ai/forum/t/pytorch-functions-and-tensor-operations/13790) with the community and exchange feedback with other participants\n",
        ">\n",
        ">\n",
        "> The recommended way to run this notebook is to click the \"Run\" button at the top of this page, and select \"Run on Colab\". Run `jovian.commit` regularly to save your progress.\n",
        "> \n",
        "> Try to give your notebook an interesting title e.g. \"All about PyTorch tensor operations\", \"5 PyTorch functions you didn't know you needed\", \"A beginner's guide to Autograd in PyToch\", \"Interesting ways to create PyTorch tensors\", \"Trigonometic functions in PyTorch\", \"How to use PyTorch tensors for Linear Algebra\" etc.\n",
        ">\n",
        "> **IMPORTANT NOTE**: Make sure to submit a Jovian notebook link e.g. https://jovian.ai/aakashns/01-tensor-operations . Colab links will not be accepted.\n",
        ">\n",
        "> Remove this cell containing instructions before making a submission or sharing your notebook, to make it more presentable.\n",
        ">\n",
        "\n"
      ]
    },
    {
      "cell_type": "markdown",
      "metadata": {
        "id": "RsKKZljM9gru"
      },
      "source": [
        "# Interesting ways to create PyTorch tensors\n",
        "\n",
        "An short introduction about PyTorch and about the chosen functions. \n",
        "\n",
        "- function 1\n",
        "- function 2\n",
        "- function 3\n",
        "- function 4\n",
        "- function 5\n",
        "\n",
        "Before we begin, let's install and import PyTorch"
      ]
    },
    {
      "cell_type": "code",
      "metadata": {
        "id": "wkuL3UBC9gru"
      },
      "source": [
        "# Uncomment and run the appropriate command for your operating system, if required\n",
        "\n",
        "# Linux / Binder\n",
        "# !pip install numpy torch==1.7.0+cpu torchvision==0.8.1+cpu torchaudio==0.7.0 -f https://download.pytorch.org/whl/torch_stable.html\n",
        "\n",
        "# Windows\n",
        "# !pip install numpy torch==1.7.0+cpu torchvision==0.8.1+cpu torchaudio==0.7.0 -f https://download.pytorch.org/whl/torch_stable.html\n",
        "\n",
        "# MacOS\n",
        "# !pip install numpy torch torchvision torchaudio"
      ],
      "execution_count": null,
      "outputs": []
    },
    {
      "cell_type": "code",
      "metadata": {
        "id": "1nGF4Z8e9gru"
      },
      "source": [
        "# Import torch and other required modules\n",
        "import torch"
      ],
      "execution_count": 3,
      "outputs": []
    },
    {
      "cell_type": "markdown",
      "metadata": {
        "id": "4RFzVSH4g-4U"
      },
      "source": [
        "In this tutorial we seek to explore the use of `pytorch` functions in solving for a portfolio optimization problem: The Markowitz Mean-Variance Portfolio\r\n",
        "Theory or Modern portfolio Theory. The MPT is a diversification-driven investment management technique that seeks to maximize expected returns by allocating the investment amount in such a way that a risky asset equally pays a high return.\r\n",
        "Assumptions have it that investors are risk averse. That is they will only be willign to taken-on more risk, so long it pays a high enough returns.\r\n",
        "Thus more formally, given $n$ assets, our paremeter consist of  $$\\begin{align}\r\n",
        "  w &= \\begin{bmatrix}\r\n",
        "           w_{1} \\\\\r\n",
        "           w_{2} \\\\\r\n",
        "           \\vdots \\\\\r\n",
        "           w_{n}\r\n",
        "    \\end{bmatrix} \\in \\mathbb{R}^{n \\times 1}, \\quad\r\n",
        "  m &= \\begin{bmatrix}\r\n",
        "           m_{1} \\\\\r\n",
        "           m_{2} \\\\\r\n",
        "           \\vdots \\\\\r\n",
        "           w_{n}\r\n",
        "    \\end{bmatrix} \\in \\mathbb{R}^{n \\times 1}, \\quad\r\n",
        "  \\Sigma &= \\begin{bmatrix}\r\n",
        "            a_{11} & 0 & 0& 0\\\\\r\n",
        "            0 & a_{22} & 0& 0\\\\\r\n",
        "            \\vdots  & \\vdots & \\ddots & \\vdots\\\\\r\n",
        "            0 & 0 & 0& a_{nn}\r\n",
        "    \\end{bmatrix} \\in \\mathbb{R}^{n \\times n}, \\quad\r\n",
        " e &= \\begin{bmatrix}\r\n",
        "           1 \\\\\r\n",
        "           1 \\\\\r\n",
        "           \\vdots \\\\\r\n",
        "           1\r\n",
        "         \\end{bmatrix} \\in \\mathbb{R}^{n \\times 1}.\r\n",
        "  \\end{align}$$ \r\n",
        "Where:\r\n",
        "  1. $w$ is the vector of portfolion weights (Say I have \\\\$100, weights refers to the portion of my \\\\$100 each asset class in my portfolio should take). Thus its only logical that it sums up to 1. That is, $\\sum_{i=1}^nw_i = 1$;\r\n",
        "  2. $\\Sigma$ is the  covariance matrix for the returns on the assets in the portfolio;\r\n",
        "  3. $m$ is a vector of expected returns.\r\n",
        "  4. $e$ is a unit vector.\r\n",
        "  5. Note that all matrix and vectors are in dimension $n$ of the number of assets in our portfolio. This tells us that the more the numer of assets in out porfolio, the more the computation required."
      ]
    },
    {
      "cell_type": "markdown",
      "metadata": {
        "id": "zOzztZxASaI1"
      },
      "source": [
        "## Problem Statement.\r\n",
        "Given the paremeter family above, we seek a porfolio weights that minimizes risk called the minimum variance porfolio. Thus, among all asset combinations we seek the one that yields minimum risk and maximizes profit given our investment sum.\r\n",
        "This is stated as an optimization problem of the form:\r\n",
        "$$\\begin{align}\r\n",
        "min \\qquad w^{T}\\Sigma w \\\\\r\n",
        "s.t \\qquad  w^{T} e = 1;\r\n",
        "\\end{align}$$\r\n",
        "where $w^{T}\\Sigma w$ is the variance of portfolio return. The problem above is satisfied or \"solved\" by:\r\n",
        "$$\\begin{align}\r\n",
        "w= \\frac{\\Sigma^{-1}e}{e^{T} \\Sigma^{-1}e}.\r\n",
        "\\end{align}$$\r\n",
        "\r\n",
        "In the subsequent section we use applicable `pytorch` functions to sole a related problem."
      ]
    },
    {
      "cell_type": "markdown",
      "metadata": {
        "id": "_Syu-TAK9grv"
      },
      "source": [
        "## Function 1 -  `torch.ones()`\n",
        "The `torch.ones(a,b)` function returns a tensor `X` of ones with dimension `a` by `b`. But if only a is supplied it returns an `1` by `4` vector of ones. the therefore create our unit vector $e$ using the function"
      ]
    },
    {
      "cell_type": "code",
      "metadata": {
        "colab": {
          "base_uri": "https://localhost:8080/"
        },
        "id": "oGMIgGBY9grv",
        "outputId": "c6f6bde2-394a-4c41-834d-6682937ab6b6"
      },
      "source": [
        "# Example 1 - working (change this)\n",
        "\n",
        "e = torch.ones(3,1) # creates a 3 by 1 tensor\n",
        "print(e)"
      ],
      "execution_count": 47,
      "outputs": [
        {
          "output_type": "stream",
          "text": [
            "tensor([[1.],\n",
            "        [1.],\n",
            "        [1.]])\n"
          ],
          "name": "stdout"
        }
      ]
    },
    {
      "cell_type": "markdown",
      "metadata": {
        "id": "6EREuvnt9grx"
      },
      "source": [
        "Closing comments about when to use this function"
      ]
    },
    {
      "cell_type": "markdown",
      "metadata": {
        "id": "6NCRovHc9grx"
      },
      "source": [
        "Let's save our work using Jovian before continuing."
      ]
    },
    {
      "cell_type": "code",
      "metadata": {
        "id": "0eyDD_WE9grx"
      },
      "source": [
        "!pip install jovian --upgrade --quiet"
      ],
      "execution_count": 96,
      "outputs": []
    },
    {
      "cell_type": "code",
      "metadata": {
        "id": "_TrhlkXJ9grx"
      },
      "source": [
        "import jovian"
      ],
      "execution_count": 97,
      "outputs": []
    },
    {
      "cell_type": "code",
      "metadata": {
        "colab": {
          "base_uri": "https://localhost:8080/",
          "height": 137
        },
        "id": "lSO5232s9grx",
        "outputId": "879d0e98-d4d2-4352-b1b9-b700352dfb7b"
      },
      "source": [
        "jovian.commit(project='01-tensor-operations')"
      ],
      "execution_count": 98,
      "outputs": [
        {
          "output_type": "stream",
          "text": [
            "[jovian] Detected Colab notebook...\u001b[0m\n",
            "[jovian] Please enter your API key ( from https://jovian.ai/ ):\u001b[0m\n",
            "API KEY: ··········\n",
            "[jovian] Uploading colab notebook to Jovian...\u001b[0m\n",
            "[jovian] Capturing environment..\u001b[0m\n",
            "[jovian] Committed successfully! https://jovian.ai/odunayo12/01-tensor-operations\u001b[0m\n"
          ],
          "name": "stdout"
        },
        {
          "output_type": "execute_result",
          "data": {
            "application/vnd.google.colaboratory.intrinsic+json": {
              "type": "string"
            },
            "text/plain": [
              "'https://jovian.ai/odunayo12/01-tensor-operations'"
            ]
          },
          "metadata": {
            "tags": []
          },
          "execution_count": 98
        }
      ]
    },
    {
      "cell_type": "markdown",
      "metadata": {
        "id": "jrAum4nE9gry"
      },
      "source": [
        "## Function 2 - `torch.diagonal()` and `torch.rand_like()`\n",
        "For our covariance matrix $\\Sigma$, which happens to be a diagonal matrix; the `torch.diagonal(a,b,...)` function comes in handy. The function, if `a,b,...` is a vector, generates a square matrix with `a,b,...` as the diagonal entries.\n",
        "\n",
        "`torch.rand_like()`, on the other hand, is an extension of `torch.rand()`. Whereas the `torch.rand(a,b)` function generates a tensor of the random numbers from 0 upto but not including 1; `torch.rand_like()` returns random numbers that mimmick the size of tensor input. Lets see this in action"
      ]
    },
    {
      "cell_type": "markdown",
      "metadata": {
        "id": "gceG8kEtd_Qj"
      },
      "source": [
        "#### Example 1 - `torch.rand()`"
      ]
    },
    {
      "cell_type": "code",
      "metadata": {
        "colab": {
          "base_uri": "https://localhost:8080/"
        },
        "id": "4BB1g4VyMnk9",
        "outputId": "02a58e6c-43ec-4ca6-bf87-9684f6be8f9d"
      },
      "source": [
        "y= torch.rand(3,2)\r\n",
        "print(y)"
      ],
      "execution_count": 9,
      "outputs": [
        {
          "output_type": "stream",
          "text": [
            "tensor([[0.6716, 0.2929],\n",
            "        [0.5484, 0.7934],\n",
            "        [0.6809, 0.8128]])\n"
          ],
          "name": "stdout"
        }
      ]
    },
    {
      "cell_type": "markdown",
      "metadata": {
        "id": "7mbs6UbreKUe"
      },
      "source": [
        "#### Example 2 - `torch.rand_like()`"
      ]
    },
    {
      "cell_type": "code",
      "metadata": {
        "colab": {
          "base_uri": "https://localhost:8080/"
        },
        "id": "dUlr_wwE9gry",
        "outputId": "ebeb29cc-fcd7-4585-d917-82af6ed84541"
      },
      "source": [
        "torch.rand_like(y)"
      ],
      "execution_count": 10,
      "outputs": [
        {
          "output_type": "execute_result",
          "data": {
            "text/plain": [
              "tensor([[0.4045, 0.6358],\n",
              "        [0.8388, 0.6339],\n",
              "        [0.5872, 0.3122]])"
            ]
          },
          "metadata": {
            "tags": []
          },
          "execution_count": 10
        }
      ]
    },
    {
      "cell_type": "markdown",
      "metadata": {
        "id": "f1bzCa9J9gry"
      },
      "source": [
        "As seen above, we need not specify dimension for the `torch.rand_like()` function. Its output rather \"inherits\" the dimension of its input."
      ]
    },
    {
      "cell_type": "code",
      "metadata": {
        "colab": {
          "base_uri": "https://localhost:8080/",
          "height": 163
        },
        "id": "ndC8I2MR9gry",
        "outputId": "80878c40-eff9-4be9-f0a4-aa1fac45976c"
      },
      "source": [
        "torch.rand_like(y,1)"
      ],
      "execution_count": 11,
      "outputs": [
        {
          "output_type": "error",
          "ename": "TypeError",
          "evalue": "ignored",
          "traceback": [
            "\u001b[0;31m---------------------------------------------------------------------------\u001b[0m",
            "\u001b[0;31mTypeError\u001b[0m                                 Traceback (most recent call last)",
            "\u001b[0;32m<ipython-input-11-29b6f6945063>\u001b[0m in \u001b[0;36m<module>\u001b[0;34m()\u001b[0m\n\u001b[0;32m----> 1\u001b[0;31m \u001b[0mtorch\u001b[0m\u001b[0;34m.\u001b[0m\u001b[0mrand_like\u001b[0m\u001b[0;34m(\u001b[0m\u001b[0my\u001b[0m\u001b[0;34m,\u001b[0m\u001b[0;36m1\u001b[0m\u001b[0;34m)\u001b[0m\u001b[0;34m\u001b[0m\u001b[0;34m\u001b[0m\u001b[0m\n\u001b[0m",
            "\u001b[0;31mTypeError\u001b[0m: rand_like() takes 1 positional argument but 2 were given"
          ]
        }
      ]
    },
    {
      "cell_type": "markdown",
      "metadata": {
        "id": "BF-hItZm9gry"
      },
      "source": [
        "Note that you cannot add increase the alter the dimension of the input vector in `torch.rand_like(y)` by specifying additional argument in it. If dimesion must be changed it has to be changed in the iput fuction. Suppose I want a 3-D tensor output, the following will do the magic."
      ]
    },
    {
      "cell_type": "code",
      "metadata": {
        "colab": {
          "base_uri": "https://localhost:8080/"
        },
        "id": "i-P4wVPkgpm6",
        "outputId": "11cb1aac-e80f-4eab-d26d-fa129fb46b59"
      },
      "source": [
        "y = torch.rand(3,2,1)\r\n",
        "torch.rand_like(y)"
      ],
      "execution_count": 12,
      "outputs": [
        {
          "output_type": "execute_result",
          "data": {
            "text/plain": [
              "tensor([[[0.8648],\n",
              "         [0.1429]],\n",
              "\n",
              "        [[0.8448],\n",
              "         [0.6266]],\n",
              "\n",
              "        [[0.6293],\n",
              "         [0.5259]]])"
            ]
          },
          "metadata": {
            "tags": []
          },
          "execution_count": 12
        }
      ]
    },
    {
      "cell_type": "markdown",
      "metadata": {
        "id": "3iCrULz59grz"
      },
      "source": [
        "#### Sigma \r\n",
        "In what follows, we combine `torch.rand_like()` with `torch.diag()` to generate a square matrix of dimension $e$."
      ]
    },
    {
      "cell_type": "code",
      "metadata": {
        "colab": {
          "base_uri": "https://localhost:8080/"
        },
        "id": "Z_L4kU0OiMBo",
        "outputId": "4f5edc02-c993-47a4-e3bf-e37ecf86fca5"
      },
      "source": [
        "rand_e = torch.rand_like(e)\r\n",
        "transp_rand_e = rand_e.t() # t() is a shorthand for transpose()\r\n",
        "transp_rand_e = transp_rand_e[0,:] #make compactible with the torch.diag() function\r\n",
        "print(transp_rand_e)\r\n",
        "sigma = torch.diag(transp_rand_e)\r\n",
        "print(sigma)"
      ],
      "execution_count": 61,
      "outputs": [
        {
          "output_type": "stream",
          "text": [
            "tensor([0.3164, 0.2426, 0.3136])\n",
            "tensor([[0.3164, 0.0000, 0.0000],\n",
            "        [0.0000, 0.2426, 0.0000],\n",
            "        [0.0000, 0.0000, 0.3136]])\n"
          ],
          "name": "stdout"
        }
      ]
    },
    {
      "cell_type": "markdown",
      "metadata": {
        "id": "yIRjck6hkz6t"
      },
      "source": [
        ""
      ]
    },
    {
      "cell_type": "markdown",
      "metadata": {
        "id": "nxfrD-jn9grz"
      },
      "source": [
        "Closing comments about when to use this function"
      ]
    },
    {
      "cell_type": "markdown",
      "metadata": {
        "id": "S90z1ZCr9grz"
      },
      "source": [
        "## Function 3 - `torch.inverse()`\n",
        "\n",
        "Add some explanations\n",
        "\n",
        "\n",
        "\n",
        "\n"
      ]
    },
    {
      "cell_type": "markdown",
      "metadata": {
        "id": "RioUopCJ9grz"
      },
      "source": [
        "Explanation about example"
      ]
    },
    {
      "cell_type": "code",
      "metadata": {
        "id": "mSnQRgrh9grz"
      },
      "source": [
        "sigma_inverse = torch.inverse(sigma)"
      ],
      "execution_count": 16,
      "outputs": []
    },
    {
      "cell_type": "markdown",
      "metadata": {
        "id": "2QYqBV9Y9gr0"
      },
      "source": [
        "Explanation about example"
      ]
    },
    {
      "cell_type": "code",
      "metadata": {
        "id": "6CcSHuyg9gr0"
      },
      "source": [
        "# Example 3 - breaking (to illustrate when it breaks)"
      ],
      "execution_count": null,
      "outputs": []
    },
    {
      "cell_type": "markdown",
      "metadata": {
        "id": "MYNY_dZp9gr0"
      },
      "source": [
        "Explanation about example"
      ]
    },
    {
      "cell_type": "markdown",
      "metadata": {
        "id": "BnG2KDSC9gr0"
      },
      "source": [
        "Closing comments about when to use this function"
      ]
    },
    {
      "cell_type": "markdown",
      "metadata": {
        "id": "R6XNJfCM9gr0"
      },
      "source": [
        "## Function 4 - `torch.mv()`\n",
        "\n",
        "Add some explanations"
      ]
    },
    {
      "cell_type": "code",
      "metadata": {
        "colab": {
          "base_uri": "https://localhost:8080/"
        },
        "id": "p0shNu6blBk4",
        "outputId": "6ad30881-56f6-41b4-b948-6a81516f4095"
      },
      "source": [
        "e_transpose = e.t()[0,:]\r\n",
        "e_transpose"
      ],
      "execution_count": 84,
      "outputs": [
        {
          "output_type": "execute_result",
          "data": {
            "text/plain": [
              "tensor([1., 1., 1.])"
            ]
          },
          "metadata": {
            "tags": []
          },
          "execution_count": 84
        }
      ]
    },
    {
      "cell_type": "code",
      "metadata": {
        "id": "5IkgR2et9grz",
        "colab": {
          "base_uri": "https://localhost:8080/"
        },
        "outputId": "86ac300e-16a2-459e-872a-bb226a863954"
      },
      "source": [
        "\r\n",
        "f= torch.mv(sigma_inverse,e_transpose)\r\n",
        "g = f/(f@e)\r\n",
        "g.sum()"
      ],
      "execution_count": 93,
      "outputs": [
        {
          "output_type": "execute_result",
          "data": {
            "text/plain": [
              "tensor(1.)"
            ]
          },
          "metadata": {
            "tags": []
          },
          "execution_count": 93
        }
      ]
    },
    {
      "cell_type": "markdown",
      "metadata": {
        "id": "nC210je39gr1"
      },
      "source": [
        "Explanation about example"
      ]
    },
    {
      "cell_type": "code",
      "metadata": {
        "id": "HmTRkihd9gr1",
        "colab": {
          "base_uri": "https://localhost:8080/"
        },
        "outputId": "19207262-7edc-46e6-ee91-da77ab6155e8"
      },
      "source": [
        "# Example 2 - working\r\n",
        "\r\n"
      ],
      "execution_count": 88,
      "outputs": [
        {
          "output_type": "execute_result",
          "data": {
            "text/plain": [
              "tensor([7.0916])"
            ]
          },
          "metadata": {
            "tags": []
          },
          "execution_count": 88
        }
      ]
    },
    {
      "cell_type": "markdown",
      "metadata": {
        "id": "Y3roLtC99gr1"
      },
      "source": [
        "Explanation about example"
      ]
    },
    {
      "cell_type": "code",
      "metadata": {
        "id": "cEK3DOao9gr1"
      },
      "source": [
        "# Example 3 - breaking (to illustrate when it breaks)"
      ],
      "execution_count": null,
      "outputs": []
    },
    {
      "cell_type": "markdown",
      "metadata": {
        "id": "-fYypdBj9gr1"
      },
      "source": [
        "Explanation about example"
      ]
    },
    {
      "cell_type": "markdown",
      "metadata": {
        "id": "o8gQBhYL9gr1"
      },
      "source": [
        "Closing comments about when to use this function"
      ]
    },
    {
      "cell_type": "code",
      "metadata": {
        "id": "2kb2icIe9gr1",
        "outputId": "f23f32db-62c6-43f4-cb13-4f38d77e2bc4"
      },
      "source": [
        "jovian.commit(project='01-tensor-operations')"
      ],
      "execution_count": null,
      "outputs": [
        {
          "output_type": "display_data",
          "data": {
            "application/javascript": [
              "window.require && require([\"base/js/namespace\"],function(Jupyter){Jupyter.notebook.save_checkpoint()})"
            ],
            "text/plain": [
              "<IPython.core.display.Javascript object>"
            ]
          },
          "metadata": {
            "tags": []
          }
        },
        {
          "output_type": "stream",
          "text": [
            "[jovian] Attempting to save notebook..\u001b[0m\n",
            "[jovian] Updating notebook \"aakashns/01-tensor-operations\" on https://jovian.ai/\u001b[0m\n",
            "[jovian] Uploading notebook..\u001b[0m\n",
            "[jovian] Capturing environment..\u001b[0m\n",
            "[jovian] Committed successfully! https://jovian.ai/aakashns/01-tensor-operations\u001b[0m\n"
          ],
          "name": "stdout"
        },
        {
          "output_type": "execute_result",
          "data": {
            "text/plain": [
              "'https://jovian.ai/aakashns/01-tensor-operations'"
            ]
          },
          "metadata": {
            "tags": []
          },
          "execution_count": 18
        }
      ]
    },
    {
      "cell_type": "markdown",
      "metadata": {
        "id": "dz3-O1kz9gr1"
      },
      "source": [
        "## Function 5 - ???\n",
        "\n",
        "Add some explanations"
      ]
    },
    {
      "cell_type": "code",
      "metadata": {
        "id": "hhNqtona9gr2"
      },
      "source": [
        "# Example 1 - working"
      ],
      "execution_count": null,
      "outputs": []
    },
    {
      "cell_type": "markdown",
      "metadata": {
        "id": "YhXw0C1p9gr2"
      },
      "source": [
        "Explanation about example"
      ]
    },
    {
      "cell_type": "code",
      "metadata": {
        "id": "JuzhzPWY9gr2"
      },
      "source": [
        "# Example 2 - working"
      ],
      "execution_count": null,
      "outputs": []
    },
    {
      "cell_type": "markdown",
      "metadata": {
        "id": "lFgsQguZ9gr2"
      },
      "source": [
        "Explanation about example"
      ]
    },
    {
      "cell_type": "code",
      "metadata": {
        "id": "oBBz0z0W9gr2"
      },
      "source": [
        "# Example 3 - breaking (to illustrate when it breaks)"
      ],
      "execution_count": null,
      "outputs": []
    },
    {
      "cell_type": "markdown",
      "metadata": {
        "id": "Clc0_PWf9gr2"
      },
      "source": [
        "Explanation about example"
      ]
    },
    {
      "cell_type": "markdown",
      "metadata": {
        "id": "YZzkPdWh9gr2"
      },
      "source": [
        "Closing comments about when to use this function"
      ]
    },
    {
      "cell_type": "code",
      "metadata": {
        "id": "QkcmHQxF9gr3",
        "outputId": "999a5fb7-ae9c-4a53-9edf-89420fb9cf07"
      },
      "source": [
        "jovian.commit(project='01-tensor-operations')"
      ],
      "execution_count": null,
      "outputs": [
        {
          "output_type": "display_data",
          "data": {
            "application/javascript": [
              "window.require && require([\"base/js/namespace\"],function(Jupyter){Jupyter.notebook.save_checkpoint()})"
            ],
            "text/plain": [
              "<IPython.core.display.Javascript object>"
            ]
          },
          "metadata": {
            "tags": []
          }
        },
        {
          "output_type": "stream",
          "text": [
            "[jovian] Attempting to save notebook..\u001b[0m\n",
            "[jovian] Updating notebook \"aakashns/01-tensor-operations\" on https://jovian.ai/\u001b[0m\n",
            "[jovian] Uploading notebook..\u001b[0m\n",
            "[jovian] Capturing environment..\u001b[0m\n",
            "[jovian] Committed successfully! https://jovian.ai/aakashns/01-tensor-operations\u001b[0m\n"
          ],
          "name": "stdout"
        },
        {
          "output_type": "execute_result",
          "data": {
            "text/plain": [
              "'https://jovian.ai/aakashns/01-tensor-operations'"
            ]
          },
          "metadata": {
            "tags": []
          },
          "execution_count": 19
        }
      ]
    },
    {
      "cell_type": "markdown",
      "metadata": {
        "id": "k9kFXjch9gr3"
      },
      "source": [
        "## Conclusion\n",
        "\n",
        "Summarize what was covered in this notebook, and where to go next"
      ]
    },
    {
      "cell_type": "markdown",
      "metadata": {
        "id": "jmXTtcGH9gr3"
      },
      "source": [
        "## Reference Links\n",
        "Provide links to your references and other interesting articles about tensors\n",
        "* Official documentation for tensor operations: https://pytorch.org/docs/stable/torch.html\n",
        "* ..."
      ]
    },
    {
      "cell_type": "code",
      "metadata": {
        "id": "LkFjqWSQ9gr3",
        "outputId": "53106453-9edc-43ca-e212-fe8cec8d209e"
      },
      "source": [
        "jovian.commit(project='01-tensor-operations')"
      ],
      "execution_count": null,
      "outputs": [
        {
          "output_type": "display_data",
          "data": {
            "application/javascript": [
              "window.require && require([\"base/js/namespace\"],function(Jupyter){Jupyter.notebook.save_checkpoint()})"
            ],
            "text/plain": [
              "<IPython.core.display.Javascript object>"
            ]
          },
          "metadata": {
            "tags": []
          }
        },
        {
          "output_type": "stream",
          "text": [
            "[jovian] Attempting to save notebook..\u001b[0m\n"
          ],
          "name": "stdout"
        }
      ]
    },
    {
      "cell_type": "code",
      "metadata": {
        "id": "S_clE_CO9gr3"
      },
      "source": [
        ""
      ],
      "execution_count": null,
      "outputs": []
    }
  ]
}